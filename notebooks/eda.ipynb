{
 "cells": [
  {
   "cell_type": "code",
   "execution_count": null,
   "id": "0cf38924",
   "metadata": {},
   "outputs": [],
   "source": [
    "import numpy as np\n",
    "import pandas as pd\n",
    "import pymc3 as pm\n",
    "import matplotlib.pyplot as plt\n",
    "import arviz as az\n",
    "\n",
    "# Load processed data\n",
    "df = pd.read_csv('../data/processed/log_returns.csv', parse_dates=['Date'])\n",
    "prices = df['Price'].values  # Or use log_returns if preferred\n",
    "dates = df['Date'].values"
   ]
  },
  {
   "cell_type": "code",
   "execution_count": null,
   "id": "ae41d8ac",
   "metadata": {},
   "outputs": [],
   "source": [
    "with pm.Model() as bcp_model:\n",
    "    # Priors\n",
    "    tau = pm.DiscreteUniform('tau', lower=0, upper=len(prices)-1)  # Change point location\n",
    "    mu1 = pm.Normal('mu1', mu=0, sigma=10)  # Mean before change\n",
    "    mu2 = pm.Normal('mu2', mu=0, sigma=10)  # Mean after change\n",
    "    sigma = pm.HalfNormal('sigma', sigma=10)  # Volatility\n",
    "    \n",
    "    # Switchpoint logic\n",
    "    mu = pm.math.switch(tau >= np.arange(len(prices)), mu1, mu2)\n",
    "    \n",
    "    # Likelihood\n",
    "    likelihood = pm.Normal('likelihood', mu=mu, sigma=sigma, observed=prices)\n",
    "    \n",
    "    # Sampling\n",
    "    trace = pm.sample(3000, tune=1000, chains=2, target_accept=0.9)"
   ]
  },
  {
   "cell_type": "code",
   "execution_count": null,
   "id": "a2cf894f",
   "metadata": {},
   "outputs": [],
   "source": [
    "# Trace plot\n",
    "pm.plot_trace(trace, var_names=['tau', 'mu1', 'mu2', 'sigma'])\n",
    "plt.tight_layout()\n",
    "\n",
    "# Summary statistics\n",
    "summary = pm.summary(trace)\n",
    "print(summary)\n",
    "\n",
    "# Check R-hat (convergence)\n",
    "assert all(summary['r_hat'] < 1.05), \"Model did not converge!\""
   ]
  },
  {
   "cell_type": "code",
   "execution_count": null,
   "id": "0376c1ee",
   "metadata": {},
   "outputs": [],
   "source": [
    "# Extract most probable change point\n",
    "tau_samples = trace['tau']\n",
    "tau_est = np.argmax(np.bincount(tau_samples))  # Mode of posterior\n",
    "change_date = dates[tau_est]\n",
    "\n",
    "# Plot change point\n",
    "plt.figure(figsize=(14, 6))\n",
    "plt.plot(dates, prices, label='Brent Price')\n",
    "plt.axvline(change_date, color='red', linestyle='--', \n",
    "            label=f'Change Point: {change_date.strftime(\"%Y-%m-%d\")}')\n",
    "plt.title('Detected Change Point in Oil Prices', fontsize=16)\n",
    "plt.legend()\n",
    "plt.show()"
   ]
  },
  {
   "cell_type": "code",
   "execution_count": null,
   "id": "082f30ee",
   "metadata": {},
   "outputs": [],
   "source": [
    "# Load events\n",
    "events = pd.read_csv('../data/raw/events.csv', parse_dates=['Date'])\n",
    "\n",
    "# Find nearest event to change point\n",
    "time_deltas = np.abs(events['Date'] - change_date)\n",
    "closest_event = events.iloc[np.argmin(time_deltas)]\n",
    "\n",
    "print(f\"Closest Event: {closest_event['Event']} ({closest_event['Date'].strftime('%Y-%m-%d')})\")\n",
    "print(f\"Time Delta: {np.min(time_deltas).days} days\")\n",
    "\n",
    "# Plot events near change points\n",
    "plt.figure(figsize=(14, 6))\n",
    "plt.plot(dates, prices, alpha=0.5)\n",
    "for _, event in events.iterrows():\n",
    "    plt.axvline(event['Date'], color='gray', linestyle=':', alpha=0.7)\n",
    "plt.axvline(change_date, color='red', linestyle='--', linewidth=2)\n",
    "plt.title('Change Points vs. Researched Events', fontsize=16)\n",
    "plt.show()"
   ]
  },
  {
   "cell_type": "code",
   "execution_count": null,
   "id": "3654bc0a",
   "metadata": {},
   "outputs": [],
   "source": [
    "# Calculate mean shift\n",
    "mu1_post = trace['mu1'].mean()\n",
    "mu2_post = trace['mu2'].mean()\n",
    "mean_shift = (mu2_post - mu1_post) / mu1_post * 100\n",
    "\n",
    "print(f\"Mean Price Before: {mu1_post:.2f}\")\n",
    "print(f\"Mean Price After: {mu2_post:.2f}\")\n",
    "print(f\"Change: {mean_shift:.1f}%\")\n",
    "\n",
    "# Posterior distributions\n",
    "pm.plot_posterior(trace, var_names=['mu1', 'mu2'], \n",
    "                  figsize=(12, 4), hdi_prob=0.95)\n",
    "plt.show()"
   ]
  },
  {
   "cell_type": "code",
   "execution_count": null,
   "id": "d90dae79",
   "metadata": {},
   "outputs": [],
   "source": [
    "# Save change points and parameters\n",
    "change_points = pd.DataFrame({\n",
    "    'change_date': [change_date],\n",
    "    'tau': [tau_est],\n",
    "    'mu1': [mu1_post],\n",
    "    'mu2': [mu2_post],\n",
    "    'sigma': [trace['sigma'].mean()],\n",
    "    'closest_event': [closest_event['Event']],\n",
    "    'time_delta_days': [np.min(time_deltas).days]\n",
    "})\n",
    "\n",
    "change_points.to_csv('../data/processed/change_points.csv', index=False)"
   ]
  }
 ],
 "metadata": {
  "language_info": {
   "name": "python"
  }
 },
 "nbformat": 4,
 "nbformat_minor": 5
}
